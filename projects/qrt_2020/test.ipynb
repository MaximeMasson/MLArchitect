{
 "cells": [
  {
   "cell_type": "code",
   "execution_count": 51,
   "metadata": {},
   "outputs": [],
   "source": [
    "import pandas as pd\n",
    "\n",
    "PATH = \"/Users/Max/OneDrive/ULTRA NICE/ML Competition/QRT Challenge 2020/data\"\n",
    "df = pd.read_parquet(PATH + \"/joined/v1/train_joined.parquet\")"
   ]
  },
  {
   "cell_type": "code",
   "execution_count": 53,
   "metadata": {},
   "outputs": [
    {
     "name": "stdout",
     "output_type": "stream",
     "text": [
      "stock_comparison_features:RET_1_sub_industry_std      0.286157\n",
      "stock_comparison_features:RET_1_industry_std          0.033475\n",
      "stock_comparison_features:RET_1_industry_group_std    0.005939\n",
      "stock_comparison_features:RET_1_sector_std            0.001890\n",
      "stock_comparison_features:RET_5_sector_zscore         0.001890\n",
      "                                                        ...   \n",
      "basic_statistical_features:VOLUME_min_20              0.000000\n",
      "basic_statistical_features:VOLUME_q25_20              0.000000\n",
      "basic_statistical_features:VOLUME_q75_20              0.000000\n",
      "basic_statistical_features:VOLUME_skew_20             0.000000\n",
      "basic_statistical_features:VOLUME_kurt_20             0.000000\n",
      "Length: 157, dtype: float64\n"
     ]
    }
   ],
   "source": [
    "nan_percentage = df.isna().mean() * 100\n",
    "sorted_nan_percentage = nan_percentage.sort_values(ascending=False)\n",
    "print(sorted_nan_percentage)"
   ]
  },
  {
   "cell_type": "code",
   "execution_count": 50,
   "metadata": {},
   "outputs": [],
   "source": [
    "df = df[:7000]\n",
    "df.to_parquet(PATH + \"/transformed/v1_short/nan_handling_test.parquet\")"
   ]
  },
  {
   "cell_type": "code",
   "execution_count": null,
   "metadata": {},
   "outputs": [
    {
     "data": {
      "text/html": [
       "<div>\n",
       "<style scoped>\n",
       "    .dataframe tbody tr th:only-of-type {\n",
       "        vertical-align: middle;\n",
       "    }\n",
       "\n",
       "    .dataframe tbody tr th {\n",
       "        vertical-align: top;\n",
       "    }\n",
       "\n",
       "    .dataframe thead th {\n",
       "        text-align: right;\n",
       "    }\n",
       "</style>\n",
       "<table border=\"1\" class=\"dataframe\">\n",
       "  <thead>\n",
       "    <tr style=\"text-align: right;\">\n",
       "      <th></th>\n",
       "      <th>ID</th>\n",
       "      <th>RET</th>\n",
       "    </tr>\n",
       "  </thead>\n",
       "  <tbody>\n",
       "    <tr>\n",
       "      <th>0</th>\n",
       "      <td>418595</td>\n",
       "      <td>True</td>\n",
       "    </tr>\n",
       "    <tr>\n",
       "      <th>1</th>\n",
       "      <td>418596</td>\n",
       "      <td>False</td>\n",
       "    </tr>\n",
       "    <tr>\n",
       "      <th>2</th>\n",
       "      <td>418597</td>\n",
       "      <td>True</td>\n",
       "    </tr>\n",
       "    <tr>\n",
       "      <th>3</th>\n",
       "      <td>418598</td>\n",
       "      <td>False</td>\n",
       "    </tr>\n",
       "    <tr>\n",
       "      <th>4</th>\n",
       "      <td>418599</td>\n",
       "      <td>False</td>\n",
       "    </tr>\n",
       "    <tr>\n",
       "      <th>...</th>\n",
       "      <td>...</td>\n",
       "      <td>...</td>\n",
       "    </tr>\n",
       "    <tr>\n",
       "      <th>198424</th>\n",
       "      <td>617019</td>\n",
       "      <td>False</td>\n",
       "    </tr>\n",
       "    <tr>\n",
       "      <th>198425</th>\n",
       "      <td>617020</td>\n",
       "      <td>True</td>\n",
       "    </tr>\n",
       "    <tr>\n",
       "      <th>198426</th>\n",
       "      <td>617021</td>\n",
       "      <td>False</td>\n",
       "    </tr>\n",
       "    <tr>\n",
       "      <th>198427</th>\n",
       "      <td>617022</td>\n",
       "      <td>True</td>\n",
       "    </tr>\n",
       "    <tr>\n",
       "      <th>198428</th>\n",
       "      <td>617023</td>\n",
       "      <td>False</td>\n",
       "    </tr>\n",
       "  </tbody>\n",
       "</table>\n",
       "<p>198429 rows × 2 columns</p>\n",
       "</div>"
      ],
      "text/plain": [
       "            ID    RET\n",
       "0       418595   True\n",
       "1       418596  False\n",
       "2       418597   True\n",
       "3       418598  False\n",
       "4       418599  False\n",
       "...        ...    ...\n",
       "198424  617019  False\n",
       "198425  617020   True\n",
       "198426  617021  False\n",
       "198427  617022   True\n",
       "198428  617023  False\n",
       "\n",
       "[198429 rows x 2 columns]"
      ]
     },
     "execution_count": 37,
     "metadata": {},
     "output_type": "execute_result"
    }
   ],
   "source": [
    "import pandas as pd\n",
    "\n",
    "PATH = \"/Users/Max/OneDrive/ULTRA NICE/ML Competition/QRT Challenge 2020/data\"\n",
    "df = pd.read_csv(PATH + \"/models/v1/logistic_model/logistic_model_1.0000_20250317_192417.csv\")\n",
    "df"
   ]
  }
 ],
 "metadata": {
  "kernelspec": {
   "display_name": "Python 3",
   "language": "python",
   "name": "python3"
  },
  "language_info": {
   "codemirror_mode": {
    "name": "ipython",
    "version": 3
   },
   "file_extension": ".py",
   "mimetype": "text/x-python",
   "name": "python",
   "nbconvert_exporter": "python",
   "pygments_lexer": "ipython3",
   "version": "3.13.2"
  }
 },
 "nbformat": 4,
 "nbformat_minor": 2
}
